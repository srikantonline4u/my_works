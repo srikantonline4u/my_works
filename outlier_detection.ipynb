{
 "cells": [
  {
   "cell_type": "code",
   "execution_count": 2,
   "id": "4062c09c",
   "metadata": {},
   "outputs": [],
   "source": [
    "import numpy as np\n",
    "import matplotlib.pyplot as plt\n",
    "%matplotlib inline"
   ]
  },
  {
   "cell_type": "code",
   "execution_count": 10,
   "id": "cff69185",
   "metadata": {},
   "outputs": [
    {
     "data": {
      "text/plain": [
       "(array([29.,  0.,  0.,  0.,  0.,  0.,  0.,  0.,  0.,  3.]),\n",
       " array([ 10. ,  19.8,  29.6,  39.4,  49.2,  59. ,  68.8,  78.6,  88.4,\n",
       "         98.2, 108. ]),\n",
       " <BarContainer object of 10 artists>)"
      ]
     },
     "execution_count": 10,
     "metadata": {},
     "output_type": "execute_result"
    },
    {
     "data": {
      "image/png": "[encoded data removed]",
      "text/plain": [
       "<Figure size 640x480 with 1 Axes>"
      ]
     },
     "metadata": {},
     "output_type": "display_data"
    }
   ],
   "source": [
    "data=[11,10,12,14,12,15,14,13,15,105,12,14,17,19,107,10,13,12,108,12,11,14,13,15,10,15,12,10,14,13,15,10]\n",
    "plt.hist(data)"
   ]
  },
  {
   "cell_type": "markdown",
   "id": "c62e770b",
   "metadata": {},
   "source": [
    "# z-Score technique"
   ]
  },
  {
   "cell_type": "code",
   "execution_count": 11,
   "id": "15677ca7",
   "metadata": {},
   "outputs": [],
   "source": [
    "outlier = []\n",
    "def detect_outlier(data):\n",
    "    thresold = 3  # 3rd std deviation\n",
    "    mean = np.mean(data)\n",
    "    std = np.std(data)\n",
    "    \n",
    "    for i in data:\n",
    "        z_score = (i-mean)/std\n",
    "        if np.abs(z_score)>thresold:\n",
    "            outlier.append(i)\n",
    "    return outlier\n",
    "    "
   ]
  },
  {
   "cell_type": "code",
   "execution_count": 12,
   "id": "69a8df3e",
   "metadata": {},
   "outputs": [
    {
     "data": {
      "text/plain": [
       "[105, 107, 108]"
      ]
     },
     "execution_count": 12,
     "metadata": {},
     "output_type": "execute_result"
    }
   ],
   "source": [
    "detect_outlier(data)"
   ]
  },
  {
   "cell_type": "markdown",
   "id": "ebb72d63",
   "metadata": {},
   "source": [
    "# IQR technique\n",
    "\n",
    "1) sort the data\n",
    "2) calculate q1 and q3\n",
    "3) IQR(q3-q1)\n",
    "4) find lower fence\n",
    "5) find higher fence\n"
   ]
  },
  {
   "cell_type": "code",
   "execution_count": 13,
   "id": "1ebde10e",
   "metadata": {},
   "outputs": [],
   "source": [
    "# sort\n",
    "data.sort()"
   ]
  },
  {
   "cell_type": "code",
   "execution_count": 15,
   "id": "0b8ddf6b",
   "metadata": {},
   "outputs": [
    {
     "name": "stdout",
     "output_type": "stream",
     "text": [
      "12.0 15.0\n"
     ]
    }
   ],
   "source": [
    "q1,q3 = np.percentile(data, [25,75])\n",
    "print(q1,q3)"
   ]
  },
  {
   "cell_type": "code",
   "execution_count": 17,
   "id": "0fd8f97d",
   "metadata": {},
   "outputs": [
    {
     "name": "stdout",
     "output_type": "stream",
     "text": [
      "3.0\n"
     ]
    }
   ],
   "source": [
    "iqr = q3-q1\n",
    "print(iqr)"
   ]
  },
  {
   "cell_type": "code",
   "execution_count": 18,
   "id": "78db2d9f",
   "metadata": {},
   "outputs": [
    {
     "name": "stdout",
     "output_type": "stream",
     "text": [
      "7.5 19.5\n"
     ]
    }
   ],
   "source": [
    "#find lower fence and higher fence\n",
    "lower_fence = q1-1.5*iqr\n",
    "higher_fence = q3+1.5*iqr\n",
    "\n",
    "print(lower_fence,higher_fence)"
   ]
  },
  {
   "cell_type": "code",
   "execution_count": 20,
   "id": "23b49e4f",
   "metadata": {},
   "outputs": [
    {
     "name": "stdout",
     "output_type": "stream",
     "text": [
      "[105, 107, 108]\n"
     ]
    }
   ],
   "source": [
    "outliers=[]\n",
    "for i in data:\n",
    "    if i <lower_fence or i > higher_fence:\n",
    "        outliers.append(i)\n",
    "print(outliers)"
   ]
  },
  {
   "cell_type": "code",
   "execution_count": 21,
   "id": "ea62990a",
   "metadata": {},
   "outputs": [
    {
     "data": {
      "text/plain": [
       "<Axes: >"
      ]
     },
     "execution_count": 21,
     "metadata": {},
     "output_type": "execute_result"
    },
    {
     "data": {
      "image/png": "[encoded data removed]",
      "text/plain": [
       "<Figure size 640x480 with 1 Axes>"
      ]
     },
     "metadata": {},
     "output_type": "display_data"
    }
   ],
   "source": [
    "import seaborn as sns\n",
    "sns.boxplot(data)"
   ]
  },
  {
   "cell_type": "code",
   "execution_count": null,
   "id": "98060a5d",
   "metadata": {},
   "outputs": [],
   "source": []
  }
 ],
 "metadata": {
  "kernelspec": {
   "display_name": "Python 3 (ipykernel)",
   "language": "python",
   "name": "python3"
  },
  "language_info": {
   "codemirror_mode": {
    "name": "ipython",
    "version": 3
   },
   "file_extension": ".py",
   "mimetype": "text/x-python",
   "name": "python",
   "nbconvert_exporter": "python",
   "pygments_lexer": "ipython3",
   "version": "3.10.9"
  }
 },
 "nbformat": 4,
 "nbformat_minor": 5
}
